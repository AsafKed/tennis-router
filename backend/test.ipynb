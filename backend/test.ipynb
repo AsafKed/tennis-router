{
 "cells": [
  {
   "cell_type": "code",
   "execution_count": null,
   "metadata": {},
   "outputs": [],
   "source": [
    "import pandas as pd\n",
    "from datetime import datetime\n",
    "matches_2022 = pd.read_csv('data/matches_2022.csv')\n",
    "matches_2022.head()"
   ]
  },
  {
   "cell_type": "code",
   "execution_count": null,
   "metadata": {},
   "outputs": [],
   "source": [
    "# Show the columns of the dataframe in alphabetical order\n",
    "sorted(matches_2022.columns)"
   ]
  },
  {
   "cell_type": "code",
   "execution_count": null,
   "metadata": {},
   "outputs": [],
   "source": [
    "# Show the df with all columns except ones that contain 'loser' or 'winner'\n",
    "match_cols = list(matches_2022[[col for col in matches_2022.columns if 'loser' not in col and 'winner' not in col]].columns)\n",
    "\n",
    "# Print match_cols but without quotes around each column name\n",
    "print(*match_cols, sep=', ')"
   ]
  },
  {
   "cell_type": "code",
   "execution_count": null,
   "metadata": {},
   "outputs": [],
   "source": [
    "# Then return it as a list of dictionaries\n",
    "matches_2022[[col for col in matches_2022.columns if 'loser' not in col and 'winner' not in col]].to_dict('records')"
   ]
  },
  {
   "attachments": {},
   "cell_type": "markdown",
   "metadata": {},
   "source": [
    "## Get unique players by name and ID"
   ]
  },
  {
   "cell_type": "code",
   "execution_count": null,
   "metadata": {},
   "outputs": [],
   "source": [
    "# Get only the column names which include the substring 'name'\n",
    "matches_2022.filter(regex='name').columns"
   ]
  },
  {
   "cell_type": "code",
   "execution_count": null,
   "metadata": {},
   "outputs": [],
   "source": [
    "# Get only rows where the value of column 'winner_name' or 'loser_name' includes 'Tim van Rijthoven' without accounting for case\n",
    "matches_2022[matches_2022['winner_name'].str.contains('Tim van Rijthoven', case=False) | matches_2022['loser_name'].str.contains('Tim van Rijthoven', case=False)]\n",
    "\n",
    "# Same as above but only show the winner name or loser name columns\n",
    "matches_2022[matches_2022['winner_name'].str.contains('Tim van Rijthoven', case=False) | matches_2022['loser_name'].str.contains('Tim van Rijthoven', case=False)][['winner_name', 'loser_name']]"
   ]
  },
  {
   "cell_type": "code",
   "execution_count": null,
   "metadata": {},
   "outputs": [],
   "source": [
    "# Turn the above 2 lines into a function which outputs the index number of the found rows and the ratio of Tim's presence in the winner_name to loser_name columns\n",
    "def find_matches_by_name(name):\n",
    "    # Find the rows where name is present in the winner_name or loser_name columns\n",
    "    name_matches_2022 = matches_2022[matches_2022['winner_name'].str.contains(name, case=False) | matches_2022['loser_name'].str.contains(name, case=False)]\n",
    "    name_matches_index = name_matches_2022.index\n",
    "\n",
    "    # Get the percent wins of the player\n",
    "    won_percent = len(name_matches_2022[name_matches_2022['winner_name'].str.contains(name, case=False)]) / len(name_matches_2022)\n",
    "\n",
    "    # From the latest row in the row index, get the value of the largest date value in the tourney_date column\n",
    "    name_matches_latest_date = name_matches_2022.iloc[-1]['tourney_date']\n",
    "    name_matches_latest_date = datetime.strptime(str(name_matches_latest_date), '%Y%m%d').strftime('%Y-%m-%d') # YYYY-MM-DD format\n",
    "\n",
    "    # If the winner_name in the last row is equal to the name (not accounting for case), get that row's winner_id, otherwise get the loser_id\n",
    "    if name_matches_2022.iloc[-1]['winner_name'].lower() == name.lower():\n",
    "        id = name_matches_2022.iloc[-1]['winner_id']\n",
    "    else:\n",
    "        id = name_matches_2022.iloc[-1]['loser_id']\n",
    "\n",
    "    # As a dictionary, return the name of the player, a list of the index numbers of the rows where the player is present and the ratio of the player's presence in the winner_name to loser_name columns\n",
    "    return {'name': name, 'id': id, 'matches_2022': [name_matches_index], 'win_percent': won_percent, 'latest_date': name_matches_latest_date}\n",
    "\n",
    "# Get the index number of the rows where Tim is present and the ratio of Tim's presence in the winner_name to loser_name columns\n",
    "find_matches_by_name('Tim van Rijthoven')\n"
   ]
  },
  {
   "cell_type": "code",
   "execution_count": null,
   "metadata": {},
   "outputs": [],
   "source": [
    "def find_matches_by_id(id):\n",
    "    # Find the rows where name is present in the winner_name or loser_name columns\n",
    "    id_won_matches_2022 = matches_2022[matches_2022['winner_id'] == id]\n",
    "    id_lost_matches_2022 = matches_2022[matches_2022['loser_id'] == id]\n",
    "    id_matches_2022 = pd.concat([id_won_matches_2022, id_lost_matches_2022])\n",
    "    \n",
    "    id_matches_index = id_matches_2022.index\n",
    "\n",
    "    # Get the percent wins of the player\n",
    "    won_percent = len(id_won_matches_2022) / len(id_matches_2022)\n",
    "    \n",
    "    # From the latest row in the row index, get the value of the largest date value in the tourney_date column\n",
    "    id_matches_latest_date = id_matches_2022.iloc[-1]['tourney_date']\n",
    "    id_matches_latest_date = datetime.strptime(str(id_matches_latest_date), '%Y%m%d').strftime('%Y-%m-%d') # YYYY-MM-DD format\n",
    "\n",
    "    # Get the name of the player\n",
    "    name = id_matches_2022.iloc[-1]['winner_name'] if id_matches_2022.iloc[-1]['winner_id'] == id else id_matches_2022.iloc[-1]['loser_name']\n",
    "\n",
    "    # As a dictionary, return the name of the player, a list of the index numbers of the rows where the player is present and the ratio of the player's presence in the winner_name to loser_name columns\n",
    "    return {'name': name, 'id': id, 'matches_2022': [id_matches_index], 'win_percent': won_percent, 'latest_date': id_matches_latest_date}\n",
    "\n",
    "# find_matches_by_id(126646)"
   ]
  },
  {
   "cell_type": "code",
   "execution_count": null,
   "metadata": {},
   "outputs": [],
   "source": [
    "# Get the unique ids of the players\n",
    "unique_ids = set(list(matches_2022['winner_id'].unique()) + list(matches_2022['loser_id'].unique()))\n",
    "\n",
    "# Now make this performance even better by using multiprocessing\n",
    "import multiprocessing as mp\n",
    "\n",
    "pool = mp.Pool(processes=4)\n",
    "all_people = pool.map(find_matches_by_id, unique_ids)\n",
    "pool.close()\n",
    "\n",
    "# Turn the list of dictionaries into a dataframe\n",
    "all_people_df = pd.DataFrame(all_people)\n",
    "\n",
    "# # Sort the dataframe by the win/lose ratio\n",
    "# all_matches_matches_2022.sort_values(by='win_lose', ascending=False)\n",
    "\n",
    "# # Get the top 10 players with the highest win/lose ratio\n",
    "# all_matches_matches_2022.sort_values(by='win_lose', ascending=False).head(10)\n",
    "\n",
    "all_people_df"
   ]
  },
  {
   "attachments": {},
   "cell_type": "markdown",
   "metadata": {},
   "source": [
    "## Get more characteristics"
   ]
  },
  {
   "cell_type": "code",
   "execution_count": null,
   "metadata": {},
   "outputs": [],
   "source": [
    "# Let's use Rafael Nadal as an example, because I've heard his name before. Get just his id number\n",
    "nadal_id = all_people_df[all_people_df['name'].str.contains('Nadal', case=False)]['id'].values[0]\n",
    "\n",
    "nadal = find_matches_by_id(nadal_id)\n",
    "nadal"
   ]
  },
  {
   "cell_type": "code",
   "execution_count": null,
   "metadata": {},
   "outputs": [],
   "source": [
    "# Get rows from the matches_2022 dataframe based on gilles['matches_2022']\n",
    "nadal_df = matches_2022.iloc[nadal['matches_2022'][0]]\n",
    "nadal_df.shape"
   ]
  },
  {
   "cell_type": "code",
   "execution_count": null,
   "metadata": {},
   "outputs": [],
   "source": [
    "# Get list of columns from nadal_df\n",
    "nadal_df.columns"
   ]
  },
  {
   "attachments": {},
   "cell_type": "markdown",
   "metadata": {},
   "source": [
    "Columns include information about the tournament, the winner and the loser, and more. Using the dictionary text file in the source Github repo (found here: https://github.com/JeffSackmann/tennis_atp/blob/master/matches_data_dictionary.txt), here are some explanations of the columns.\n",
    "> - draw_size: number of players in the draw, often rounded up to the nearest power of 2. (For instance, a tournament with 28 players may be shown as 32.)\n",
    "> - tourney_level: \n",
    ">   - For men: 'G' = Grand Slams, 'M' = Masters 1000s, 'A' = other tour-level events, 'C' = Challengers, 'S' = Satellites/ITFs, 'F' = Tour finals and other season-ending events, and 'D' = Davis Cup \n",
    ">   - For women, there are several additional tourney_level codes, including 'P' = Premier, 'PM' = Premier Mandatory, and 'I' = International. The various levels of ITFs are given by the prize money (in thousands), such as '15' = ITF $15,000. Other codes, such as 'T1' for Tier I (and so on) are used for older WTA tournament designations. 'D' is used for Federation/Fed/Billie Jean King Cup, and also for Wightman Cup and Bonne Bell Cup.\n",
    ">   - Others, eventually for both genders: 'E' = exhibition (events not sanctioned by the tour, though the definitions can be ambiguous), 'J' = juniors, and 'T' = team tennis, which does yet appear anywhere in the dataset but will at some point.\n",
    "> - match_num: somewhat arbitrary\n",
    "> - winner_entry: 'WC' = wild card, 'Q' = qualifier, 'LL' = lucky loser, 'PR' = protected ranking, 'ITF' = ITF entry, and there are a few others that are occasionally used.\n",
    "> - winner_hand: R = right, L = left, U = unknown. For ambidextrous players, this is their serving hand.\n",
    "> - winner_ht: height in centimeters, where available\n",
    "> - winner_ioc: three-character country code\n",
    "> - winner_age: age, in years, as of the tourney_date\n",
    "> - best_of: '3' or '5', indicating the the number of sets for this match\n",
    "> - minutes: match length"
   ]
  },
  {
   "attachments": {},
   "cell_type": "markdown",
   "metadata": {},
   "source": [
    "Possibly interesting filters are \n",
    "1. Which tournaments has this person participated in?\n",
    "2. The tournament levels this person has participated in\n",
    "3. Main hand\n",
    "4. Country they're from\n",
    "5. Age\n",
    "6. How many sets they play on average\n",
    "7. Average game length, or longest, shortest games\n",
    "8. Which surface they're strongest on (win percentage they have on that surface)"
   ]
  },
  {
   "cell_type": "code",
   "execution_count": null,
   "metadata": {},
   "outputs": [],
   "source": [
    "# From nadal_df, find row where the loser name is 'Daniil Medvedev' and the tourney_name is 'Australian Open'\n",
    "nadal_medvedev = nadal_df[(nadal_df['loser_name'] == 'Daniil Medvedev') & (nadal_df['tourney_name'] == 'Australian Open')][['winner_name', \n",
    "  'loser_name', 'tourney_name', 'tourney_level', 'tourney_date',\n",
    "  'draw_size', 'score', 'round',\n",
    "  'w_ace', 'w_df', 'w_svpt', 'w_1stIn', 'w_1stWon', 'w_2ndWon', 'w_SvGms', 'w_bpSaved', 'w_bpFaced',\n",
    "  'l_ace', 'l_df', 'l_svpt', 'l_1stIn', 'l_1stWon', 'l_2ndWon', 'l_SvGms', 'l_bpSaved', 'l_bpFaced']]\n",
    "\n",
    "# Print the row in a nice to read format, with column-value pairs on separate lines\n",
    "for col in nadal_medvedev.columns:\n",
    "    print(col, ':', nadal_medvedev[col].values[0])\n"
   ]
  },
  {
   "cell_type": "code",
   "execution_count": null,
   "metadata": {},
   "outputs": [],
   "source": [
    "def make_person(id):\n",
    "    # From all people, get the row where the winner_id is equal to the id\n",
    "    index_2022 = find_matches_by_id(id)['matches_2022']\n",
    "\n",
    "    # Get the rows from the matches_2022 dataframe based on the index, split into won and lost\n",
    "    matches = matches_2022.iloc[index_2022[0]]\n",
    "    won_matches = matches.loc[matches_2022['winner_id'] == id]\n",
    "    lost_matches = matches.loc[matches_2022['loser_id'] == id]\n",
    "    \n",
    "    # Create a dictionary of lists of wanted properties (same as above), using the won_matches and lost_matches dataframes\n",
    "    person = {\n",
    "        'name': won_matches.iloc[-1]['winner_name'] if won_matches.iloc[-1]['winner_id'] == id else lost_matches.iloc[-1]['loser_name'],\n",
    "        'id': id,\n",
    "        'rank': won_matches.iloc[-1]['winner_rank'] if won_matches.iloc[-1]['winner_id'] == id else lost_matches.iloc[-1]['loser_rank'],\n",
    "        'rank_points': won_matches.iloc[-1]['winner_rank_points'] if won_matches.iloc[-1]['winner_id'] == id else lost_matches.iloc[-1]['loser_rank_points'],\n",
    "        'matches_2022': index_2022,\n",
    "        'won_matches_2022': len(won_matches),\n",
    "        'lost_matches_2022': len(lost_matches),\n",
    "        'win_percent': len(won_matches) / len(matches),\n",
    "        'latest_date': matches.iloc[-1]['tourney_date'],\n",
    "        'tourney_names': list(matches['tourney_name'].unique()),\n",
    "        # summed stats\n",
    "        'sum_aces': won_matches['w_ace'].sum() + lost_matches['l_ace'].sum(),\n",
    "        'sum_double_faults': won_matches['w_df'].sum() + lost_matches['l_df'].sum(),\n",
    "        'sum_service_points': won_matches['w_svpt'].sum() + lost_matches['l_svpt'].sum(),\n",
    "        'sum_first_serve_points': won_matches['w_1stIn'].sum() + lost_matches['l_1stIn'].sum(),\n",
    "        'sum_first_serve_points_won': won_matches['w_1stWon'].sum() + lost_matches['l_1stWon'].sum(),\n",
    "        'sum_second_serve_points_won': won_matches['w_2ndWon'].sum() + lost_matches['l_2ndWon'].sum(),\n",
    "        'sum_serve_games': won_matches['w_SvGms'].sum() + lost_matches['l_SvGms'].sum(),\n",
    "        'sum_break_points_saved': won_matches['w_bpSaved'].sum() + lost_matches['l_bpSaved'].sum(),\n",
    "        'sum_break_points_faced': won_matches['w_bpFaced'].sum() + lost_matches['l_bpFaced'].sum(),\n",
    "        # average stats\n",
    "        'avg_aces': (won_matches['w_ace'].sum() + lost_matches['l_ace'].sum()) / len(matches),\n",
    "        'avg_double_faults': (won_matches['w_df'].sum() + lost_matches['l_df'].sum()) / len(matches),\n",
    "        'avg_service_points': (won_matches['w_svpt'].sum() + lost_matches['l_svpt'].sum()) / len(matches),\n",
    "        'avg_first_serve_points': (won_matches['w_1stIn'].sum() + lost_matches['l_1stIn'].sum()) / len(matches),\n",
    "        'avg_first_serve_points_won': (won_matches['w_1stWon'].sum() + lost_matches['l_1stWon'].sum()) / len(matches),\n",
    "        'avg_second_serve_points_won': (won_matches['w_2ndWon'].sum() + lost_matches['l_2ndWon'].sum()) / len(matches),\n",
    "        'avg_serve_games': (won_matches['w_SvGms'].sum() + lost_matches['l_SvGms'].sum()) / len(matches),\n",
    "        'avg_break_points_saved': (won_matches['w_bpSaved'].sum() + lost_matches['l_bpSaved'].sum()) / len(matches),\n",
    "        'avg_break_points_faced': (won_matches['w_bpFaced'].sum() + lost_matches['l_bpFaced'].sum()) / len(matches)\n",
    "    }\n",
    "    \n",
    "    return person\n",
    "\n",
    "make_person(104745)"
   ]
  },
  {
   "cell_type": "code",
   "execution_count": null,
   "metadata": {},
   "outputs": [],
   "source": []
  },
  {
   "cell_type": "code",
   "execution_count": null,
   "metadata": {},
   "outputs": [],
   "source": [
    "# TODO: import all the csv files from the past 10 years and then do the same thing as above. Can just add the new csv file names to the functions above and then run the functions again.\n"
   ]
  },
  {
   "attachments": {},
   "cell_type": "markdown",
   "metadata": {},
   "source": [
    "## Add historic data to DB"
   ]
  },
  {
   "cell_type": "code",
   "execution_count": 1,
   "metadata": {},
   "outputs": [
    {
     "name": "stderr",
     "output_type": "stream",
     "text": [
      "100%|██████████| 408/408 [00:02<00:00, 170.91it/s]\n",
      "100%|██████████| 2917/2917 [00:17<00:00, 163.66it/s]\n"
     ]
    }
   ],
   "source": [
    "from database_workers.item_handling.tennis_editor import TennisEditor\n",
    "from datetime import datetime\n",
    "import pandas as pd\n",
    "matches_2022 = pd.read_csv('data/matches_2022.csv')\n",
    "\n",
    "# Create a TennisEditor object, use matches_2022 df as the database\n",
    "editor = TennisEditor(data=matches_2022)\n",
    "\n",
    "# Add matches to db\n",
    "# editor.matches\n",
    "# editor.upload_matches_to_db()\n",
    "editor.create_player_match_relationships()"
   ]
  },
  {
   "cell_type": "code",
   "execution_count": 3,
   "metadata": {},
   "outputs": [
    {
     "data": {
      "text/plain": [
       "{'2022-0308',\n",
       " '2022-0311',\n",
       " '2022-0314',\n",
       " '2022-0315',\n",
       " '2022-0316',\n",
       " '2022-0319',\n",
       " '2022-0321',\n",
       " '2022-0322',\n",
       " '2022-0328',\n",
       " '2022-0329',\n",
       " '2022-0337',\n",
       " '2022-0341',\n",
       " '2022-0352',\n",
       " '2022-0360',\n",
       " '2022-0375',\n",
       " '2022-0403',\n",
       " '2022-0404',\n",
       " '2022-0407',\n",
       " '2022-0410',\n",
       " '2022-0414',\n",
       " '2022-0416',\n",
       " '2022-0418',\n",
       " '2022-0421',\n",
       " '2022-0422',\n",
       " '2022-0424',\n",
       " '2022-0425',\n",
       " '2022-0429',\n",
       " '2022-0439',\n",
       " '2022-0440',\n",
       " '2022-0451',\n",
       " '2022-0495',\n",
       " '2022-0496',\n",
       " '2022-0499',\n",
       " '2022-0500',\n",
       " '2022-0506',\n",
       " '2022-0605',\n",
       " '2022-0717',\n",
       " '2022-0741',\n",
       " '2022-0807',\n",
       " '2022-0891',\n",
       " '2022-1536',\n",
       " '2022-2805',\n",
       " '2022-2807',\n",
       " '2022-2809',\n",
       " '2022-4138',\n",
       " '2022-4140',\n",
       " '2022-5053',\n",
       " '2022-520',\n",
       " '2022-540',\n",
       " '2022-560',\n",
       " '2022-580',\n",
       " '2022-6116',\n",
       " '2022-6242',\n",
       " '2022-6932',\n",
       " '2022-7290',\n",
       " '2022-7434',\n",
       " '2022-7480',\n",
       " '2022-7485',\n",
       " '2022-7694',\n",
       " '2022-7696',\n",
       " '2022-8888',\n",
       " '2022-8994',\n",
       " '2022-8996',\n",
       " '2022-8998',\n",
       " '2022-9158',\n",
       " '2022-9210',\n",
       " '2022-9410',\n",
       " '2022-9569',\n",
       " '2022-9663',\n",
       " '2022-9665',\n",
       " '2022-9667',\n",
       " '2022-M-DC-2022-FLS-1-A-M-ARG-CRO-01',\n",
       " '2022-M-DC-2022-FLS-1-A-M-ARG-SWE-01',\n",
       " '2022-M-DC-2022-FLS-1-A-M-CRO-SWE-01',\n",
       " '2022-M-DC-2022-FLS-1-A-M-ITA-ARG-01',\n",
       " '2022-M-DC-2022-FLS-1-A-M-ITA-CRO-01',\n",
       " '2022-M-DC-2022-FLS-1-A-M-ITA-SWE-01',\n",
       " '2022-M-DC-2022-FLS-2-B-M-ESP-CAN-01',\n",
       " '2022-M-DC-2022-FLS-2-B-M-ESP-KOR-01',\n",
       " '2022-M-DC-2022-FLS-2-B-M-ESP-SRB-01',\n",
       " '2022-M-DC-2022-FLS-2-B-M-KOR-CAN-01',\n",
       " '2022-M-DC-2022-FLS-2-B-M-KOR-SRB-01',\n",
       " '2022-M-DC-2022-FLS-2-B-M-SRB-CAN-01',\n",
       " '2022-M-DC-2022-FLS-3-C-M-AUS-BEL-01',\n",
       " '2022-M-DC-2022-FLS-3-C-M-FRA-AUS-01',\n",
       " '2022-M-DC-2022-FLS-3-C-M-FRA-BEL-01',\n",
       " '2022-M-DC-2022-FLS-3-C-M-FRA-GER-01',\n",
       " '2022-M-DC-2022-FLS-3-C-M-GER-AUS-01',\n",
       " '2022-M-DC-2022-FLS-3-C-M-GER-BEL-01',\n",
       " '2022-M-DC-2022-FLS-4-D-M-GBR-KAZ-01',\n",
       " '2022-M-DC-2022-FLS-4-D-M-GBR-NED-01',\n",
       " '2022-M-DC-2022-FLS-4-D-M-KAZ-NED-01',\n",
       " '2022-M-DC-2022-FLS-4-D-M-USA-GBR-01',\n",
       " '2022-M-DC-2022-FLS-4-D-M-USA-KAZ-01',\n",
       " '2022-M-DC-2022-FLS-4-D-M-USA-NED-01',\n",
       " '2022-M-DC-2022-FLS-M-AUS-CRO-01',\n",
       " '2022-M-DC-2022-FLS-M-AUS-NED-01',\n",
       " '2022-M-DC-2022-FLS-M-CAN-AUS-01',\n",
       " '2022-M-DC-2022-FLS-M-CRO-ESP-01',\n",
       " '2022-M-DC-2022-FLS-M-GER-CAN-01',\n",
       " '2022-M-DC-2022-FLS-M-ITA-CAN-01',\n",
       " '2022-M-DC-2022-FLS-M-ITA-USA-01',\n",
       " '2022-M-DC-2022-QLS-M-ARG-CZE-01',\n",
       " '2022-M-DC-2022-QLS-M-AUS-HUN-01',\n",
       " '2022-M-DC-2022-QLS-M-AUT-KOR-01',\n",
       " '2022-M-DC-2022-QLS-M-BEL-FIN-01',\n",
       " '2022-M-DC-2022-QLS-M-CAN-NED-01',\n",
       " '2022-M-DC-2022-QLS-M-ESP-ROU-01',\n",
       " '2022-M-DC-2022-QLS-M-FRA-ECU-01',\n",
       " '2022-M-DC-2022-QLS-M-GER-BRA-01',\n",
       " '2022-M-DC-2022-QLS-M-ITA-SVK-01',\n",
       " '2022-M-DC-2022-QLS-M-KAZ-NOR-01',\n",
       " '2022-M-DC-2022-QLS-M-SWE-JPN-01',\n",
       " '2022-M-DC-2022-QLS-M-USA-COL-01',\n",
       " '2022-M-DC-2022-WG1-M-AUT-PAK-01',\n",
       " '2022-M-DC-2022-WG1-M-BIH-MEX-01',\n",
       " '2022-M-DC-2022-WG1-M-BRA-POR-01',\n",
       " '2022-M-DC-2022-WG1-M-CHI-PER-01',\n",
       " '2022-M-DC-2022-WG1-M-COL-TUR-01',\n",
       " '2022-M-DC-2022-WG1-M-CZE-ISR-01',\n",
       " '2022-M-DC-2022-WG1-M-ECU-SUI-01',\n",
       " '2022-M-DC-2022-WG1-M-FIN-NZL-01',\n",
       " '2022-M-DC-2022-WG1-M-HUN-UKR-01',\n",
       " '2022-M-DC-2022-WG1-M-IND-NOR-01',\n",
       " '2022-M-DC-2022-WG1-M-JPN-UZB-01',\n",
       " '2022-M-DC-2022-WG1-M-SVK-ROU-01',\n",
       " '2022-M-DC-2022-WG1-PO-CHI-SLO-01',\n",
       " '2022-M-DC-2022-WG1-PO-IND-DEN-01',\n",
       " '2022-M-DC-2022-WG1-PO-PAK-LTU-01',\n",
       " '2022-M-DC-2022-WG1-PO-UZB-TUR-01',\n",
       " '2022-M-DC-2022-WG2-M-BAR-IRL-01',\n",
       " '2022-M-DC-2022-WG2-M-BOL-THA-01',\n",
       " '2022-M-DC-2022-WG2-M-DEN-ESA-01',\n",
       " '2022-M-DC-2022-WG2-M-DOM-LAT-01',\n",
       " '2022-M-DC-2022-WG2-M-LBN-MON-01',\n",
       " '2022-M-DC-2022-WG2-M-LTU-EGY-01',\n",
       " '2022-M-DC-2022-WG2-M-POL-INA-01',\n",
       " '2022-M-DC-2022-WG2-M-RSA-BUL-01',\n",
       " '2022-M-DC-2022-WG2-M-SLO-EST-01',\n",
       " '2022-M-DC-2022-WG2-M-TPE-HKG-01',\n",
       " '2022-M-DC-2022-WG2-M-TUN-GRE-01',\n",
       " '2022-M-DC-2022-WG2-M-URU-CHN-01',\n",
       " '2022-M-DC-2022-WG2-PO-EGY-CYP-01',\n",
       " '2022-M-DC-2022-WG2-PO-GRE-JAM-01',\n",
       " '2022-M-DC-2022-WG2-PO-HKG-BEN-01'}"
      ]
     },
     "execution_count": 3,
     "metadata": {},
     "output_type": "execute_result"
    }
   ],
   "source": [
    "# editor.matches is a list of dictionaries. I'd like to see all unique values of the key tourney_id\n",
    "# editor.matches[0]['tourney_id']\n",
    "\n",
    "tourney_ids = set()\n",
    "for match in editor.matches:\n",
    "    tourney_ids.add(match['tourney_id'])\n",
    "\n",
    "tourney_ids"
   ]
  },
  {
   "attachments": {},
   "cell_type": "markdown",
   "metadata": {},
   "source": [
    "## Add personal data to DB"
   ]
  },
  {
   "cell_type": "code",
   "execution_count": 1,
   "metadata": {},
   "outputs": [
    {
     "name": "stderr",
     "output_type": "stream",
     "text": [
      "100%|██████████| 20/20 [00:01<00:00, 11.45it/s]\n",
      "100%|██████████| 22/22 [00:01<00:00, 14.69it/s]\n",
      "100%|██████████| 42/42 [00:04<00:00, 10.28it/s]\n"
     ]
    }
   ],
   "source": [
    "from database_workers.item_handling.tennis_editor import TennisEditor\n",
    "\n",
    "editor = TennisEditor(personal_data_source='data/Competitors.xlsx')\n",
    "\n",
    "editor.upload_players_with_personal_data()"
   ]
  }
 ],
 "metadata": {
  "kernelspec": {
   "display_name": "venv",
   "language": "python",
   "name": "python3"
  },
  "language_info": {
   "codemirror_mode": {
    "name": "ipython",
    "version": 3
   },
   "file_extension": ".py",
   "mimetype": "text/x-python",
   "name": "python",
   "nbconvert_exporter": "python",
   "pygments_lexer": "ipython3",
   "version": "3.10.6"
  },
  "orig_nbformat": 4,
  "vscode": {
   "interpreter": {
    "hash": "3b6fd1c8253db789ba85424ec6039a447a3e0fb2752b2af7952a24728a90921f"
   }
  }
 },
 "nbformat": 4,
 "nbformat_minor": 2
}
