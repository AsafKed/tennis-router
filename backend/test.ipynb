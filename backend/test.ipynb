{
 "cells": [
  {
   "cell_type": "code",
   "execution_count": null,
   "metadata": {},
   "outputs": [],
   "source": [
    "import pandas as pd\n",
    "from datetime import datetime\n",
    "matches_2022 = pd.read_csv('data/matches_2022.csv')\n",
    "matches_2022.head()"
   ]
  },
  {
   "cell_type": "code",
   "execution_count": null,
   "metadata": {},
   "outputs": [],
   "source": [
    "# Show the columns of the dataframe in alphabetical order\n",
    "sorted(matches_2022.columns)"
   ]
  },
  {
   "cell_type": "code",
   "execution_count": null,
   "metadata": {},
   "outputs": [],
   "source": [
    "# Show the df with all columns except ones that contain 'loser' or 'winner'\n",
    "match_cols = list(matches_2022[[col for col in matches_2022.columns if 'loser' not in col and 'winner' not in col]].columns)\n",
    "\n",
    "# Print match_cols but without quotes around each column name\n",
    "print(*match_cols, sep=', ')"
   ]
  },
  {
   "cell_type": "code",
   "execution_count": null,
   "metadata": {},
   "outputs": [],
   "source": [
    "# Then return it as a list of dictionaries\n",
    "matches_2022[[col for col in matches_2022.columns if 'loser' not in col and 'winner' not in col]].to_dict('records')"
   ]
  },
  {
   "attachments": {},
   "cell_type": "markdown",
   "metadata": {},
   "source": [
    "## Get unique players by name and ID"
   ]
  },
  {
   "cell_type": "code",
   "execution_count": null,
   "metadata": {},
   "outputs": [],
   "source": [
    "# Get only the column names which include the substring 'name'\n",
    "matches_2022.filter(regex='name').columns"
   ]
  },
  {
   "cell_type": "code",
   "execution_count": null,
   "metadata": {},
   "outputs": [],
   "source": [
    "# Get only rows where the value of column 'winner_name' or 'loser_name' includes 'Tim van Rijthoven' without accounting for case\n",
    "matches_2022[matches_2022['winner_name'].str.contains('Tim van Rijthoven', case=False) | matches_2022['loser_name'].str.contains('Tim van Rijthoven', case=False)]\n",
    "\n",
    "# Same as above but only show the winner name or loser name columns\n",
    "matches_2022[matches_2022['winner_name'].str.contains('Tim van Rijthoven', case=False) | matches_2022['loser_name'].str.contains('Tim van Rijthoven', case=False)][['winner_name', 'loser_name']]"
   ]
  },
  {
   "cell_type": "code",
   "execution_count": null,
   "metadata": {},
   "outputs": [],
   "source": [
    "# Turn the above 2 lines into a function which outputs the index number of the found rows and the ratio of Tim's presence in the winner_name to loser_name columns\n",
    "def find_matches_by_name(name):\n",
    "    # Find the rows where name is present in the winner_name or loser_name columns\n",
    "    name_matches_2022 = matches_2022[matches_2022['winner_name'].str.contains(name, case=False) | matches_2022['loser_name'].str.contains(name, case=False)]\n",
    "    name_matches_index = name_matches_2022.index\n",
    "\n",
    "    # Get the percent wins of the player\n",
    "    won_percent = len(name_matches_2022[name_matches_2022['winner_name'].str.contains(name, case=False)]) / len(name_matches_2022)\n",
    "\n",
    "    # From the latest row in the row index, get the value of the largest date value in the tourney_date column\n",
    "    name_matches_latest_date = name_matches_2022.iloc[-1]['tourney_date']\n",
    "    name_matches_latest_date = datetime.strptime(str(name_matches_latest_date), '%Y%m%d').strftime('%Y-%m-%d') # YYYY-MM-DD format\n",
    "\n",
    "    # If the winner_name in the last row is equal to the name (not accounting for case), get that row's winner_id, otherwise get the loser_id\n",
    "    if name_matches_2022.iloc[-1]['winner_name'].lower() == name.lower():\n",
    "        id = name_matches_2022.iloc[-1]['winner_id']\n",
    "    else:\n",
    "        id = name_matches_2022.iloc[-1]['loser_id']\n",
    "\n",
    "    # As a dictionary, return the name of the player, a list of the index numbers of the rows where the player is present and the ratio of the player's presence in the winner_name to loser_name columns\n",
    "    return {'name': name, 'id': id, 'matches_2022': [name_matches_index], 'win_percent': won_percent, 'latest_date': name_matches_latest_date}\n",
    "\n",
    "# Get the index number of the rows where Tim is present and the ratio of Tim's presence in the winner_name to loser_name columns\n",
    "find_matches_by_name('Tim van Rijthoven')\n"
   ]
  },
  {
   "cell_type": "code",
   "execution_count": null,
   "metadata": {},
   "outputs": [],
   "source": [
    "def find_matches_by_id(id):\n",
    "    # Find the rows where name is present in the winner_name or loser_name columns\n",
    "    id_won_matches_2022 = matches_2022[matches_2022['winner_id'] == id]\n",
    "    id_lost_matches_2022 = matches_2022[matches_2022['loser_id'] == id]\n",
    "    id_matches_2022 = pd.concat([id_won_matches_2022, id_lost_matches_2022])\n",
    "    \n",
    "    id_matches_index = id_matches_2022.index\n",
    "\n",
    "    # Get the percent wins of the player\n",
    "    won_percent = len(id_won_matches_2022) / len(id_matches_2022)\n",
    "    \n",
    "    # From the latest row in the row index, get the value of the largest date value in the tourney_date column\n",
    "    id_matches_latest_date = id_matches_2022.iloc[-1]['tourney_date']\n",
    "    id_matches_latest_date = datetime.strptime(str(id_matches_latest_date), '%Y%m%d').strftime('%Y-%m-%d') # YYYY-MM-DD format\n",
    "\n",
    "    # Get the name of the player\n",
    "    name = id_matches_2022.iloc[-1]['winner_name'] if id_matches_2022.iloc[-1]['winner_id'] == id else id_matches_2022.iloc[-1]['loser_name']\n",
    "\n",
    "    # As a dictionary, return the name of the player, a list of the index numbers of the rows where the player is present and the ratio of the player's presence in the winner_name to loser_name columns\n",
    "    return {'name': name, 'id': id, 'matches_2022': [id_matches_index], 'win_percent': won_percent, 'latest_date': id_matches_latest_date}\n",
    "\n",
    "# find_matches_by_id(126646)"
   ]
  },
  {
   "cell_type": "code",
   "execution_count": null,
   "metadata": {},
   "outputs": [],
   "source": [
    "# Get the unique ids of the players\n",
    "unique_ids = set(list(matches_2022['winner_id'].unique()) + list(matches_2022['loser_id'].unique()))\n",
    "\n",
    "# Now make this performance even better by using multiprocessing\n",
    "import multiprocessing as mp\n",
    "\n",
    "pool = mp.Pool(processes=4)\n",
    "all_people = pool.map(find_matches_by_id, unique_ids)\n",
    "pool.close()\n",
    "\n",
    "# Turn the list of dictionaries into a dataframe\n",
    "all_people_df = pd.DataFrame(all_people)\n",
    "\n",
    "# # Sort the dataframe by the win/lose ratio\n",
    "# all_matches_matches_2022.sort_values(by='win_lose', ascending=False)\n",
    "\n",
    "# # Get the top 10 players with the highest win/lose ratio\n",
    "# all_matches_matches_2022.sort_values(by='win_lose', ascending=False).head(10)\n",
    "\n",
    "all_people_df"
   ]
  },
  {
   "attachments": {},
   "cell_type": "markdown",
   "metadata": {},
   "source": [
    "## Get more characteristics"
   ]
  },
  {
   "cell_type": "code",
   "execution_count": null,
   "metadata": {},
   "outputs": [],
   "source": [
    "# Let's use Rafael Nadal as an example, because I've heard his name before. Get just his id number\n",
    "nadal_id = all_people_df[all_people_df['name'].str.contains('Nadal', case=False)]['id'].values[0]\n",
    "\n",
    "nadal = find_matches_by_id(nadal_id)\n",
    "nadal"
   ]
  },
  {
   "cell_type": "code",
   "execution_count": null,
   "metadata": {},
   "outputs": [],
   "source": [
    "# Get rows from the matches_2022 dataframe based on gilles['matches_2022']\n",
    "nadal_df = matches_2022.iloc[nadal['matches_2022'][0]]\n",
    "nadal_df.shape"
   ]
  },
  {
   "cell_type": "code",
   "execution_count": null,
   "metadata": {},
   "outputs": [],
   "source": [
    "# Get list of columns from nadal_df\n",
    "nadal_df.columns"
   ]
  },
  {
   "attachments": {},
   "cell_type": "markdown",
   "metadata": {},
   "source": [
    "Columns include information about the tournament, the winner and the loser, and more. Using the dictionary text file in the source Github repo (found here: https://github.com/JeffSackmann/tennis_atp/blob/master/matches_data_dictionary.txt), here are some explanations of the columns.\n",
    "> - draw_size: number of players in the draw, often rounded up to the nearest power of 2. (For instance, a tournament with 28 players may be shown as 32.)\n",
    "> - tourney_level: \n",
    ">   - For men: 'G' = Grand Slams, 'M' = Masters 1000s, 'A' = other tour-level events, 'C' = Challengers, 'S' = Satellites/ITFs, 'F' = Tour finals and other season-ending events, and 'D' = Davis Cup \n",
    ">   - For women, there are several additional tourney_level codes, including 'P' = Premier, 'PM' = Premier Mandatory, and 'I' = International. The various levels of ITFs are given by the prize money (in thousands), such as '15' = ITF $15,000. Other codes, such as 'T1' for Tier I (and so on) are used for older WTA tournament designations. 'D' is used for Federation/Fed/Billie Jean King Cup, and also for Wightman Cup and Bonne Bell Cup.\n",
    ">   - Others, eventually for both genders: 'E' = exhibition (events not sanctioned by the tour, though the definitions can be ambiguous), 'J' = juniors, and 'T' = team tennis, which does yet appear anywhere in the dataset but will at some point.\n",
    "> - match_num: somewhat arbitrary\n",
    "> - winner_entry: 'WC' = wild card, 'Q' = qualifier, 'LL' = lucky loser, 'PR' = protected ranking, 'ITF' = ITF entry, and there are a few others that are occasionally used.\n",
    "> - winner_hand: R = right, L = left, U = unknown. For ambidextrous players, this is their serving hand.\n",
    "> - winner_ht: height in centimeters, where available\n",
    "> - winner_ioc: three-character country code\n",
    "> - winner_age: age, in years, as of the tourney_date\n",
    "> - best_of: '3' or '5', indicating the the number of sets for this match\n",
    "> - minutes: match length"
   ]
  },
  {
   "attachments": {},
   "cell_type": "markdown",
   "metadata": {},
   "source": [
    "Possibly interesting filters are \n",
    "1. Which tournaments has this person participated in?\n",
    "2. The tournament levels this person has participated in\n",
    "3. Main hand\n",
    "4. Country they're from\n",
    "5. Age\n",
    "6. How many sets they play on average\n",
    "7. Average game length, or longest, shortest games\n",
    "8. Which surface they're strongest on (win percentage they have on that surface)"
   ]
  },
  {
   "cell_type": "code",
   "execution_count": null,
   "metadata": {},
   "outputs": [],
   "source": [
    "# From nadal_df, find row where the loser name is 'Daniil Medvedev' and the tourney_name is 'Australian Open'\n",
    "nadal_medvedev = nadal_df[(nadal_df['loser_name'] == 'Daniil Medvedev') & (nadal_df['tourney_name'] == 'Australian Open')][['winner_name', \n",
    "  'loser_name', 'tourney_name', 'tourney_level', 'tourney_date',\n",
    "  'draw_size', 'score', 'round',\n",
    "  'w_ace', 'w_df', 'w_svpt', 'w_1stIn', 'w_1stWon', 'w_2ndWon', 'w_SvGms', 'w_bpSaved', 'w_bpFaced',\n",
    "  'l_ace', 'l_df', 'l_svpt', 'l_1stIn', 'l_1stWon', 'l_2ndWon', 'l_SvGms', 'l_bpSaved', 'l_bpFaced']]\n",
    "\n",
    "# Print the row in a nice to read format, with column-value pairs on separate lines\n",
    "for col in nadal_medvedev.columns:\n",
    "    print(col, ':', nadal_medvedev[col].values[0])\n"
   ]
  },
  {
   "cell_type": "code",
   "execution_count": null,
   "metadata": {},
   "outputs": [],
   "source": [
    "def make_person(id):\n",
    "    # From all people, get the row where the winner_id is equal to the id\n",
    "    index_2022 = find_matches_by_id(id)['matches_2022']\n",
    "\n",
    "    # Get the rows from the matches_2022 dataframe based on the index, split into won and lost\n",
    "    matches = matches_2022.iloc[index_2022[0]]\n",
    "    won_matches = matches.loc[matches_2022['winner_id'] == id]\n",
    "    lost_matches = matches.loc[matches_2022['loser_id'] == id]\n",
    "    \n",
    "    # Create a dictionary of lists of wanted properties (same as above), using the won_matches and lost_matches dataframes\n",
    "    person = {\n",
    "        'name': won_matches.iloc[-1]['winner_name'] if won_matches.iloc[-1]['winner_id'] == id else lost_matches.iloc[-1]['loser_name'],\n",
    "        'id': id,\n",
    "        'rank': won_matches.iloc[-1]['winner_rank'] if won_matches.iloc[-1]['winner_id'] == id else lost_matches.iloc[-1]['loser_rank'],\n",
    "        'rank_points': won_matches.iloc[-1]['winner_rank_points'] if won_matches.iloc[-1]['winner_id'] == id else lost_matches.iloc[-1]['loser_rank_points'],\n",
    "        'matches_2022': index_2022,\n",
    "        'won_matches_2022': len(won_matches),\n",
    "        'lost_matches_2022': len(lost_matches),\n",
    "        'win_percent': len(won_matches) / len(matches),\n",
    "        'latest_date': matches.iloc[-1]['tourney_date'],\n",
    "        'tourney_names': list(matches['tourney_name'].unique()),\n",
    "        # summed stats\n",
    "        'sum_aces': won_matches['w_ace'].sum() + lost_matches['l_ace'].sum(),\n",
    "        'sum_double_faults': won_matches['w_df'].sum() + lost_matches['l_df'].sum(),\n",
    "        'sum_service_points': won_matches['w_svpt'].sum() + lost_matches['l_svpt'].sum(),\n",
    "        'sum_first_serve_points': won_matches['w_1stIn'].sum() + lost_matches['l_1stIn'].sum(),\n",
    "        'sum_first_serve_points_won': won_matches['w_1stWon'].sum() + lost_matches['l_1stWon'].sum(),\n",
    "        'sum_second_serve_points_won': won_matches['w_2ndWon'].sum() + lost_matches['l_2ndWon'].sum(),\n",
    "        'sum_serve_games': won_matches['w_SvGms'].sum() + lost_matches['l_SvGms'].sum(),\n",
    "        'sum_break_points_saved': won_matches['w_bpSaved'].sum() + lost_matches['l_bpSaved'].sum(),\n",
    "        'sum_break_points_faced': won_matches['w_bpFaced'].sum() + lost_matches['l_bpFaced'].sum(),\n",
    "        # average stats\n",
    "        'avg_aces': (won_matches['w_ace'].sum() + lost_matches['l_ace'].sum()) / len(matches),\n",
    "        'avg_double_faults': (won_matches['w_df'].sum() + lost_matches['l_df'].sum()) / len(matches),\n",
    "        'avg_service_points': (won_matches['w_svpt'].sum() + lost_matches['l_svpt'].sum()) / len(matches),\n",
    "        'avg_first_serve_points': (won_matches['w_1stIn'].sum() + lost_matches['l_1stIn'].sum()) / len(matches),\n",
    "        'avg_first_serve_points_won': (won_matches['w_1stWon'].sum() + lost_matches['l_1stWon'].sum()) / len(matches),\n",
    "        'avg_second_serve_points_won': (won_matches['w_2ndWon'].sum() + lost_matches['l_2ndWon'].sum()) / len(matches),\n",
    "        'avg_serve_games': (won_matches['w_SvGms'].sum() + lost_matches['l_SvGms'].sum()) / len(matches),\n",
    "        'avg_break_points_saved': (won_matches['w_bpSaved'].sum() + lost_matches['l_bpSaved'].sum()) / len(matches),\n",
    "        'avg_break_points_faced': (won_matches['w_bpFaced'].sum() + lost_matches['l_bpFaced'].sum()) / len(matches)\n",
    "    }\n",
    "    \n",
    "    return person\n",
    "\n",
    "make_person(104745)"
   ]
  },
  {
   "cell_type": "code",
   "execution_count": null,
   "metadata": {},
   "outputs": [],
   "source": []
  },
  {
   "cell_type": "code",
   "execution_count": null,
   "metadata": {},
   "outputs": [],
   "source": [
    "# TODO: import all the csv files from the past 10 years and then do the same thing as above. Can just add the new csv file names to the functions above and then run the functions again.\n"
   ]
  },
  {
   "attachments": {},
   "cell_type": "markdown",
   "metadata": {},
   "source": [
    "## Add data to DB\n"
   ]
  },
  {
   "cell_type": "code",
   "execution_count": 1,
   "metadata": {},
   "outputs": [
    {
     "name": "stderr",
     "output_type": "stream",
     "text": [
      "100%|██████████| 408/408 [00:03<00:00, 127.97it/s]\n",
      "  5%|▍         | 20/408 [00:00<00:03, 102.43it/s]"
     ]
    },
    {
     "name": "stdout",
     "output_type": "stream",
     "text": [
      "{'name': 'Nicolas Mejia', 'player_id': 200711} has been created\n",
      "{'name': 'Dennis Novak', 'player_id': 110602} has been created\n",
      "{'name': 'Gilles Simon', 'player_id': 104468} has been created\n",
      "{'name': 'Kasidit Samrej', 'player_id': 208937} has been created\n",
      "{'name': 'Brandon Nakashima', 'player_id': 206909} has been created\n",
      "{'name': 'Stan Wawrinka', 'player_id': 104527} has been created\n",
      "{'name': 'Jo-Wilfried Tsonga', 'player_id': 104542} has been created\n",
      "{'name': 'John Isner', 'player_id': 104545} has been created\n",
      "{'name': 'Lukas Rosol', 'player_id': 104586} has been created\n",
      "{'name': 'Nikola Milojevic', 'player_id': 110748} has been created\n",
      "{'name': 'Yosuke Watanuki', 'player_id': 133297} has been created\n",
      "{'name': 'Daniel Altmaier', 'player_id': 127157} has been created\n",
      "{'name': 'Blaise Bicknell', 'player_id': 209080} has been created\n",
      "{'name': 'Hamad Medjedovic', 'player_id': 209098} has been created\n",
      "{'name': 'Pablo Cuevas', 'player_id': 104655} has been created\n",
      "{'name': 'Pablo Andujar', 'player_id': 104665} has been created\n",
      "{'name': 'Gabriel Diallo', 'player_id': 209113} has been created\n",
      "{'name': 'Yanki Erel', 'player_id': 207129} has been created\n",
      "{'name': 'Kevin Anderson', 'player_id': 104731} has been created\n",
      "{'name': 'Ki Lung Ng', 'player_id': 207132} has been created\n"
     ]
    },
    {
     "name": "stderr",
     "output_type": "stream",
     "text": [
      " 16%|█▌        | 66/408 [00:00<00:01, 183.88it/s]"
     ]
    },
    {
     "name": "stdout",
     "output_type": "stream",
     "text": [
      "{'name': 'Fitriadi M Rifqi', 'player_id': 207134} has been created\n",
      "{'name': 'Alexander Zverev', 'player_id': 100644} has been created\n",
      "{'name': 'Rafael Nadal', 'player_id': 104745} has been created\n",
      "{'name': 'Richard Gasquet', 'player_id': 104755} has been created\n",
      "{'name': 'Denis Shapovalov', 'player_id': 133430} has been created\n",
      "{'name': 'Filip Misolic', 'player_id': 209209} has been created\n",
      "{'name': 'Emilio Nava', 'player_id': 207182} has been created\n",
      "{'name': 'Gael Monfils', 'player_id': 104792} has been created\n",
      "{'name': 'Denis Istomin', 'player_id': 104797} has been created\n",
      "{'name': 'Borna Gojo', 'player_id': 127339} has been created\n",
      "{'name': 'Duje Ajdukovic', 'player_id': 207213} has been created\n",
      "{'name': 'Elmer Moller', 'player_id': 209284} has been created\n",
      "{'name': 'Andres Martin', 'player_id': 211346} has been created\n",
      "{'name': 'Illia Biloborodko', 'player_id': 207277} has been created\n",
      "{'name': 'Robin Haase', 'player_id': 104898} has been created\n",
      "{'name': 'Nicolas Barrientos', 'player_id': 104905} has been created\n",
      "{'name': 'Aristotelis Thanos', 'player_id': 209362} has been created\n",
      "{'name': 'Andy Murray', 'player_id': 104918} has been created\n",
      "{'name': 'Novak Djokovic', 'player_id': 104925} has been created\n",
      "{'name': 'Fabio Fognini', 'player_id': 104926} has been created\n",
      "{'name': 'Bu Yunchaokete', 'player_id': 207352} has been created\n",
      "{'name': 'Gilles Arnaud Bailly', 'player_id': 211451} has been created\n",
      "{'name': 'Coleman Wong', 'player_id': 209409} has been created\n",
      "{'name': 'Nathan Anthony Barki', 'player_id': 211458} has been created\n",
      "{'name': 'Luca Van Assche', 'player_id': 209414} has been created\n",
      "{'name': 'Luis Carlos Alvarez Valdes', 'player_id': 211468} has been created\n",
      "{'name': 'Lleyton Cronje', 'player_id': 207395} has been created\n",
      "{'name': 'Christopher Eubanks', 'player_id': 111153} has been created\n",
      "{'name': 'Jesper De Jong', 'player_id': 207411} has been created\n",
      "{'name': 'Sam Querrey', 'player_id': 105023} has been created\n",
      "{'name': 'Kaichi Uchida', 'player_id': 111187} has been created\n",
      "{'name': 'Zhizhen Zhang', 'player_id': 111190} has been created\n",
      "{'name': 'Matthew Ebden', 'player_id': 105051} has been created\n",
      "{'name': 'Elias Ymer', 'player_id': 111200} has been created\n",
      "{'name': 'Mikhail Kukushkin', 'player_id': 105062} has been created\n",
      "{'name': 'Cem Ilkel', 'player_id': 117356} has been created\n",
      "{'name': 'Cesar Cruz', 'player_id': 211570} has been created\n",
      "{'name': 'Daniels Tens', 'player_id': 211571} has been created\n",
      "{'name': 'Tegar Abdi Satrio Wibowo', 'player_id': 211572} has been created\n",
      "{'name': 'Albert Ramos', 'player_id': 105077} has been created\n",
      "{'name': 'Petros Chrysochos', 'player_id': 117365} has been created\n",
      "{'name': 'Lucky Candra Kurniawan', 'player_id': 211573} has been created\n",
      "{'name': 'Lorenzo Musetti', 'player_id': 207518} has been created\n",
      "{'name': 'Caleb Chakravarthi', 'player_id': 207531} has been created\n",
      "{'name': 'Roberto Bautista Agut', 'player_id': 105138} has been created\n",
      "{'name': 'Pedro Sousa', 'player_id': 105155} has been created\n",
      "{'name': 'Federico Zeballos', 'player_id': 105156} has been created\n"
     ]
    },
    {
     "name": "stderr",
     "output_type": "stream",
     "text": [
      " 27%|██▋       | 109/408 [00:00<00:01, 197.19it/s]"
     ]
    },
    {
     "name": "stdout",
     "output_type": "stream",
     "text": [
      "{'name': 'Gijs Brouwer', 'player_id': 133835} has been created\n",
      "{'name': 'Adrian Mannarino', 'player_id': 105173} has been created\n",
      "{'name': 'Daniel Dutra Da Silva', 'player_id': 105180} has been created\n",
      "{'name': 'Timofey Skatov', 'player_id': 207608} has been created\n",
      "{'name': 'Juan Martin del Potro', 'player_id': 105223} has been created\n",
      "{'name': 'Attila Balazs', 'player_id': 105226} has been created\n",
      "{'name': 'Marin Cilic', 'player_id': 105227} has been created\n",
      "{'name': 'Lukas Klein', 'player_id': 127760} has been created\n",
      "{'name': 'Nicholas David Ionel', 'player_id': 207660} has been created\n",
      "{'name': 'Robert Strombachs', 'player_id': 207669} has been created\n",
      "{'name': 'Juan Manuel Cerundolo', 'player_id': 207678} has been created\n",
      "{'name': 'Alexis Klegou', 'player_id': 105278} has been created\n",
      "{'name': 'Martin Landaluce', 'player_id': 211776} has been created\n",
      "{'name': 'Manuel Guinard', 'player_id': 131905} has been created\n",
      "{'name': 'Alexander Shevchenko', 'player_id': 207686} has been created\n",
      "{'name': 'Nick Chappell', 'player_id': 111436} has been created\n",
      "{'name': 'Alejandro Gonzalez', 'player_id': 105292} has been created\n",
      "{'name': 'Jordan Thompson', 'player_id': 111442} has been created\n",
      "{'name': 'Benjamin Hassan', 'player_id': 133975} has been created\n",
      "{'name': 'Mikael Torpegaard', 'player_id': 111453} has been created\n",
      "{'name': 'Andrea Vavassori', 'player_id': 131934} has been created\n",
      "{'name': 'Joao Sousa', 'player_id': 105311} has been created\n",
      "{'name': 'Mackenzie Mcdonald', 'player_id': 111456} has been created\n",
      "{'name': 'Arjun Kadhe', 'player_id': 111459} has been created\n",
      "{'name': 'Quentin Halys', 'player_id': 111460} has been created\n",
      "{'name': 'Ilya Ivashka', 'player_id': 125802} has been created\n",
      "{'name': 'Daniel Elahi Galan', 'player_id': 123755} has been created\n",
      "{'name': 'Daniel Cukierman', 'player_id': 131951} has been created\n",
      "{'name': 'Benoit Paire', 'player_id': 105332} has been created\n",
      "{'name': 'Jack Draper', 'player_id': 207733} has been created\n",
      "{'name': 'Thomas Fabbiano', 'player_id': 105341} has been created\n",
      "{'name': 'John Millman', 'player_id': 105357} has been created\n",
      "{'name': 'Matthew Foster Estwick', 'player_id': 207759} has been created\n",
      "{'name': 'Jason Jung', 'player_id': 105359} has been created\n",
      "{'name': 'Enzo Couacaud', 'player_id': 111505} has been created\n",
      "{'name': 'Altug Celikbilek', 'player_id': 123795} has been created\n",
      "{'name': 'Laslo Djere', 'player_id': 111513} has been created\n",
      "{'name': 'Yuttana Charoenphon', 'player_id': 207772} has been created\n",
      "{'name': 'Peter Gojowczyk', 'player_id': 105376} has been created\n",
      "{'name': 'Ivan Gakhov', 'player_id': 123809} has been created\n",
      "{'name': 'Aljaz Bedene', 'player_id': 105379} has been created\n",
      "{'name': 'Thiago Seyboth Wild', 'player_id': 205734} has been created\n"
     ]
    },
    {
     "name": "stderr",
     "output_type": "stream",
     "text": [
      " 32%|███▏      | 129/408 [00:00<00:01, 194.53it/s]"
     ]
    },
    {
     "name": "stdout",
     "output_type": "stream",
     "text": [
      "{'name': 'Matheus Pucinelli De Almeida', 'player_id': 207799} has been created\n",
      "{'name': 'Leandro Riedi', 'player_id': 209857} has been created\n",
      "{'name': 'Andrej Martin', 'player_id': 105413} has been created\n",
      "{'name': 'Johannes Ingildsen', 'player_id': 134087} has been created\n",
      "{'name': 'Leo Borg', 'player_id': 209863} has been created\n",
      "{'name': 'Karlis Ozolins', 'player_id': 209866} has been created\n",
      "{'name': 'Kaipo Marshall', 'player_id': 209868} has been created\n",
      "{'name': 'Amr Elsayed Abdou Ahmed Mohamed', 'player_id': 209871} has been created\n",
      "{'name': 'Radu Albot', 'player_id': 105430} has been created\n",
      "{'name': 'Karen Khachanov', 'player_id': 111575} has been created\n",
      "{'name': 'Prajnesh Gunneswaran', 'player_id': 105432} has been created\n",
      "{'name': 'Sumit Nagal', 'player_id': 111576} has been created\n",
      "{'name': 'Tomas Machac', 'player_id': 207830} has been created\n",
      "{'name': 'Stefan Kozlov', 'player_id': 111578} has been created\n",
      "{'name': 'Juan Alejandro Hernandez Serrano', 'player_id': 207834} has been created\n",
      "{'name': 'Michael Mmoh', 'player_id': 111581} has been created\n",
      "{'name': 'Muzammil Murtaza', 'player_id': 207836} has been created\n",
      "{'name': 'Muhammad Shoaib', 'player_id': 207841} has been created\n",
      "{'name': 'Mili Poljicak', 'player_id': 209890} has been created\n",
      "{'name': 'Steve Johnson', 'player_id': 105449} has been created\n",
      "{'name': 'Viacheslav Bielinskyi', 'player_id': 209907} has been created\n",
      "{'name': 'Marko Topo', 'player_id': 209916} has been created\n",
      "{'name': 'Marco Trungelliti', 'player_id': 105477} has been created\n",
      "{'name': 'Facundo Bagnis', 'player_id': 105487} has been created\n",
      "{'name': 'Arthur Fils', 'player_id': 209950} has been created\n",
      "{'name': 'Hubert Hurkacz', 'player_id': 128034} has been created\n",
      "{'name': 'Michael Bassem Sobhy', 'player_id': 209971} has been created\n",
      "{'name': 'Flavio Cobolli', 'player_id': 207925} has been created\n",
      "{'name': 'Jan Lennard Struff', 'player_id': 105526} has been created\n",
      "{'name': 'Dino Prizmic', 'player_id': 209976} has been created\n",
      "{'name': 'Murkel Alejandro Dellien Velasco', 'player_id': 123961} has been created\n",
      "{'name': 'Juncheng Shang', 'player_id': 209992} has been created\n",
      "{'name': 'Aqeel Khan', 'player_id': 103499} has been created\n",
      "{'name': 'Nerman Fatic', 'player_id': 123983} has been created\n",
      "{'name': 'Daniel Evans', 'player_id': 105554} has been created\n",
      "{'name': 'Alessandro Giannessi', 'player_id': 105561} has been created\n",
      "{'name': 'Ainius Sabaliauskas', 'player_id': 207973} has been created\n",
      "{'name': 'Ricardas Berankis', 'player_id': 105575} has been created\n",
      "{'name': 'Vasek Pospisil', 'player_id': 105577} has been created\n"
     ]
    },
    {
     "name": "stderr",
     "output_type": "stream",
     "text": [
      " 42%|████▏     | 170/408 [00:00<00:01, 198.12it/s]"
     ]
    },
    {
     "name": "stdout",
     "output_type": "stream",
     "text": [
      "{'name': 'Aisam Ul Haq Qureshi', 'player_id': 103529} has been created\n",
      "{'name': 'Ernesto Escobedo', 'player_id': 124014} has been created\n",
      "{'name': 'Dusan Lajovic', 'player_id': 105583} has been created\n",
      "{'name': 'Carlos Alcaraz', 'player_id': 207989} has been created\n",
      "{'name': 'Gerald Melzer', 'player_id': 105589} has been created\n",
      "{'name': 'Norbert Gombos', 'player_id': 105613} has been created\n",
      "{'name': 'Andrey Rublev', 'player_id': 126094} has been created\n",
      "{'name': 'Rinky Hijikata', 'player_id': 208014} has been created\n",
      "{'name': 'Bradley Klahn', 'player_id': 105614} has been created\n",
      "{'name': 'Ryan Peniston', 'player_id': 126106} has been created\n",
      "{'name': 'Michael Geerts', 'player_id': 126107} has been created\n",
      "{'name': 'Holger Rune', 'player_id': 208029} has been created\n",
      "{'name': 'Mohamed Safwat', 'player_id': 105633} has been created\n",
      "{'name': 'Skander Mansouri', 'player_id': 109734} has been created\n",
      "{'name': 'Blaz Rola', 'player_id': 105641} has been created\n",
      "{'name': 'Federico Delbonis', 'player_id': 105643} has been created\n",
      "{'name': 'Maximilian Marterer', 'player_id': 109739} has been created\n",
      "{'name': 'Brayden Schnur', 'player_id': 111790} has been created\n",
      "{'name': 'Benjamin Bonzi', 'player_id': 126127} has been created\n",
      "{'name': 'Roman Safiullin', 'player_id': 126128} has been created\n",
      "{'name': 'Pedro Martinez', 'player_id': 124079} has been created\n",
      "{'name': 'Kamil Majchrzak', 'player_id': 111794} has been created\n",
      "{'name': 'Cedrik Marcel Stebe', 'player_id': 105649} has been created\n",
      "{'name': 'Ben Shelton', 'player_id': 210097} has been created\n",
      "{'name': 'Nicolas Jarry', 'player_id': 111797} has been created\n",
      "{'name': 'Hiroki Moriya', 'player_id': 105655} has been created\n",
      "{'name': 'Marcelo Arevalo', 'player_id': 105656} has been created\n",
      "{'name': 'Diego Fernandez Flores', 'player_id': 208057} has been created\n",
      "{'name': 'Marius Copil', 'player_id': 105657} has been created\n",
      "{'name': 'Lorenzo Sonego', 'player_id': 132283} has been created\n",
      "{'name': 'Bor Artnak ', 'player_id': 210107} has been created\n",
      "{'name': 'Seong Chan Hong', 'player_id': 111805} has been created\n",
      "{'name': 'Ajeet Rai', 'player_id': 208055} has been created\n",
      "{'name': 'Gianluca Mager', 'player_id': 126149} has been created\n",
      "{'name': 'Cameron Norrie', 'player_id': 111815} has been created\n",
      "{'name': 'Andrej Nedic', 'player_id': 210119} has been created\n",
      "{'name': 'David Goffin', 'player_id': 105676} has been created\n",
      "{'name': 'Sebastian Ofner', 'player_id': 124116} has been created\n",
      "{'name': 'Mark Lajal', 'player_id': 210136} has been created\n",
      "{'name': 'Olaf Pieczkowski', 'player_id': 210142} has been created\n",
      "{'name': 'Dmitry Popko', 'player_id': 122078} has been created\n"
     ]
    },
    {
     "name": "stderr",
     "output_type": "stream",
     "text": [
      " 53%|█████▎    | 215/408 [00:01<00:00, 210.34it/s]"
     ]
    },
    {
     "name": "stdout",
     "output_type": "stream",
     "text": [
      "{'name': 'Jiri Lehecka', 'player_id': 208103} has been created\n",
      "{'name': 'Nicolas Alvarez', 'player_id': 126190} has been created\n",
      "{'name': 'Hugo Nys', 'player_id': 105714} has been created\n",
      "{'name': 'Dominik Koepfer', 'player_id': 136440} has been created\n",
      "{'name': 'Taylor Fritz', 'player_id': 126203} has been created\n",
      "{'name': 'Andrey Kuznetsov', 'player_id': 105723} has been created\n",
      "{'name': 'Tommy Paul', 'player_id': 126205} has been created\n",
      "{'name': 'Sanjar Fayziev', 'player_id': 122109} has been created\n",
      "{'name': 'Frances Tiafoe', 'player_id': 126207} has been created\n",
      "{'name': 'Gerardo Lopez Villasenor', 'player_id': 126204} has been created\n",
      "{'name': 'Peter Bertran', 'player_id': 126209} has been created\n",
      "{'name': 'Tomas Barrios Vera', 'player_id': 144642} has been created\n",
      "{'name': 'Steven Diez', 'player_id': 105731} has been created\n",
      "{'name': 'Pierre Hugues Herbert', 'player_id': 105732} has been created\n",
      "{'name': 'Zdenek Kolar', 'player_id': 144645} has been created\n",
      "{'name': 'Alejandro Tabilo', 'player_id': 126214} has been created\n",
      "{'name': 'Luca Nardi', 'player_id': 208134} has been created\n",
      "{'name': 'Cayetano March', 'player_id': 201995} has been created\n",
      "{'name': 'William Blumberg', 'player_id': 144652} has been created\n",
      "{'name': 'Karim Mohamed Maamoun', 'player_id': 105747} has been created\n",
      "{'name': 'Rodrigo Pacheco Mendez', 'player_id': 210202} has been created\n",
      "{'name': 'Reilly Opelka', 'player_id': 124187} has been created\n",
      "{'name': 'Gian Marco Moroni', 'player_id': 126237} has been created\n",
      "{'name': 'Arthur Rinderknech', 'player_id': 126239} has been created\n",
      "{'name': 'Alex Molcan', 'player_id': 144684} has been created\n",
      "{'name': 'Edas Butvilas', 'player_id': 210220} has been created\n",
      "{'name': 'Grigor Dimitrov', 'player_id': 105777} has been created\n",
      "{'name': 'Felix Auger Aliassime', 'player_id': 200000} has been created\n",
      "{'name': 'Mikael Ymer', 'player_id': 144707} has been created\n",
      "{'name': 'Ugo Humbert', 'player_id': 200005} has been created\n",
      "{'name': 'Antoine Bellier', 'player_id': 134472} has been created\n",
      "{'name': 'Alexis Galarneau', 'player_id': 200008} has been created\n",
      "{'name': 'Yunseong Chung', 'player_id': 126283} has been created\n",
      "{'name': 'Mirza Basic', 'player_id': 105806} has been created\n",
      "{'name': 'Pablo Carreno Busta', 'player_id': 105807} has been created\n",
      "{'name': 'Jaume Munar', 'player_id': 144719} has been created\n",
      "{'name': 'Petros Tsitsipas', 'player_id': 202065} has been created\n",
      "{'name': 'Tennys Sandgren', 'player_id': 105815} has been created\n",
      "{'name': 'Jannik Sinner', 'player_id': 206173} has been created\n",
      "{'name': 'Lucas Catarina', 'player_id': 200031} has been created\n",
      "{'name': 'Sebastian Dominko', 'player_id': 210274} has been created\n",
      "{'name': 'Laurynas Grigelis', 'player_id': 105827} has been created\n",
      "{'name': 'Lloyd Harris', 'player_id': 144750} has been created\n",
      "{'name': 'Rigele Te', 'player_id': 144751} has been created\n",
      "{'name': 'Francisco Cerundolo', 'player_id': 202103} has been created\n",
      "{'name': 'Sebastian Baez', 'player_id': 202104} has been created\n",
      "{'name': 'Yibing Wu', 'player_id': 200059} has been created\n",
      "{'name': 'Viktor Durasovic', 'player_id': 126340} has been created\n"
     ]
    },
    {
     "name": "stderr",
     "output_type": "stream",
     "text": [
      " 65%|██████▍   | 265/408 [00:01<00:00, 228.28it/s]"
     ]
    },
    {
     "name": "stdout",
     "output_type": "stream",
     "text": [
      "{'name': 'Zachary Svajda', 'player_id': 208260} has been created\n",
      "{'name': 'Stylianos Christodoulou', 'player_id': 210308} has been created\n",
      "{'name': 'Rowland Phillips', 'player_id': 202120} has been created\n",
      "{'name': 'Yuta Shimizu', 'player_id': 202122} has been created\n",
      "{'name': 'Yshai Oliel', 'player_id': 200075} has been created\n",
      "{'name': 'Yannick Hanfmann', 'player_id': 105870} has been created\n",
      "{'name': 'Emilio Gomez', 'player_id': 105877} has been created\n",
      "{'name': 'Shintaro Mochizuki', 'player_id': 208278} has been created\n",
      "{'name': 'Stefano Travaglia', 'player_id': 105882} has been created\n",
      "{'name': 'Matteo Arnaldi', 'player_id': 208286} has been created\n",
      "{'name': 'Nicola Kuhn', 'player_id': 200095} has been created\n",
      "{'name': 'Dragos Nicolae Madaras', 'player_id': 200096} has been created\n",
      "{'name': 'Martin Cuevas', 'player_id': 105899} has been created\n",
      "{'name': 'Feliciano Lopez', 'player_id': 103852} has been created\n",
      "{'name': 'James Duckworth', 'player_id': 105902} has been created\n",
      "{'name': 'Eero Vasa', 'player_id': 144814} has been created\n",
      "{'name': 'Marc Andrea Huesler', 'player_id': 144817} has been created\n",
      "{'name': 'Camilo Ugo Carabelli', 'player_id': 200116} has been created\n",
      "{'name': 'Botic Van De Zandschulp', 'player_id': 122298} has been created\n",
      "{'name': 'Aziz Dougaz', 'player_id': 144826} has been created\n",
      "{'name': 'Marton Fucsovics', 'player_id': 105916} has been created\n",
      "{'name': 'Hugo Grenier', 'player_id': 126409} has been created\n",
      "{'name': 'Christian Sigsgaard', 'player_id': 144841} has been created\n",
      "{'name': 'Nikoloz Basilashvili', 'player_id': 105932} has been created\n",
      "{'name': 'Roberto Quiroz', 'player_id': 105933} has been created\n",
      "{'name': 'Filip Krajinovic', 'player_id': 105936} has been created\n",
      "{'name': 'Maxime Cressy', 'player_id': 202195} has been created\n",
      "{'name': 'Carlos Gimeno Valero', 'player_id': 202197} has been created\n",
      "{'name': 'Federico Gaio', 'player_id': 105943} has been created\n",
      "{'name': 'Alexander Bublik', 'player_id': 122330} has been created\n",
      "{'name': 'Federico Coria', 'player_id': 105948} has been created\n",
      "{'name': 'Renzo Olivo', 'player_id': 105952} has been created\n",
      "{'name': 'Francesco Maestrelli', 'player_id': 208353} has been created\n",
      "{'name': 'Tomas Martin Etcheverry', 'player_id': 144869} has been created\n",
      "{'name': 'Henri Laaksonen', 'player_id': 105967} has been created\n",
      "{'name': 'Miomir Kecmanovic', 'player_id': 200175} has been created\n",
      "{'name': 'Corentin Moutet', 'player_id': 144895} has been created\n",
      "{'name': 'Darian King', 'player_id': 105985} has been created\n",
      "{'name': 'Damir Dzumhur', 'player_id': 106000} has been created\n",
      "{'name': 'Henri Squire', 'player_id': 202260} has been created\n",
      "{'name': 'Constant Lestienne', 'player_id': 106005} has been created\n",
      "{'name': 'Otto Virtanen', 'player_id': 202261} has been created\n",
      "{'name': 'Alan Fernando Rubio Fierros', 'player_id': 200214} has been created\n",
      "{'name': 'Alejandro Davidovich Fokina', 'player_id': 200221} has been created\n",
      "{'name': 'Sylvestre Monnou', 'player_id': 208414} has been created\n",
      "{'name': 'Kristjan Tamm', 'player_id': 144932} has been created\n",
      "{'name': 'Yuki Bhambri', 'player_id': 106026} has been created\n",
      "{'name': 'Vit Kopriva', 'player_id': 200240} has been created\n",
      "{'name': 'Yasutaka Uchiyama', 'player_id': 106034} has been created\n",
      "{'name': 'Menelaos Efstathiou', 'player_id': 144949} has been created\n",
      "{'name': 'Tommy Robredo', 'player_id': 103990} has been created\n"
     ]
    },
    {
     "name": "stderr",
     "output_type": "stream",
     "text": [
      " 77%|███████▋  | 315/408 [00:01<00:00, 238.05it/s]"
     ]
    },
    {
     "name": "stdout",
     "output_type": "stream",
     "text": [
      "{'name': 'Alexandar Lazarov', 'player_id': 200247} has been created\n",
      "{'name': 'Diego Schwartzman', 'player_id': 106043} has been created\n",
      "{'name': 'Bernabe Zapata Miralles', 'player_id': 126523} has been created\n",
      "{'name': 'Denis Kudla', 'player_id': 106045} has been created\n",
      "{'name': 'Nicolas Kicker', 'player_id': 106044} has been created\n",
      "{'name': 'Carlos Taberner', 'player_id': 126535} has been created\n",
      "{'name': 'Facundo Mena', 'player_id': 106057} has been created\n",
      "{'name': 'Jack Sock', 'player_id': 106058} has been created\n",
      "{'name': 'Zizou Bergs', 'player_id': 200267} has been created\n",
      "{'name': 'Geoffrey Blancaneaux', 'player_id': 144972} has been created\n",
      "{'name': 'Santiago Fa Rodriguez Taverna', 'player_id': 144973} has been created\n",
      "{'name': 'Nuno Borges', 'player_id': 132686} has been created\n",
      "{'name': 'Beibit Zhukayev', 'player_id': 202320} has been created\n",
      "{'name': 'Marco Cecchinato', 'player_id': 106065} has been created\n",
      "{'name': 'Hady Habib', 'player_id': 200273} has been created\n",
      "{'name': 'Simon Carr', 'player_id': 200278} has been created\n",
      "{'name': 'Osgar Ohoisin', 'player_id': 200279} has been created\n",
      "{'name': 'Alexey Vatutin', 'player_id': 106072} has been created\n",
      "{'name': 'Alex De Minaur', 'player_id': 200282} has been created\n",
      "{'name': 'Jozef Kovalik', 'player_id': 106075} has been created\n",
      "{'name': 'Tung Lin Wu', 'player_id': 126555} has been created\n",
      "{'name': 'Egor Gerasimov', 'player_id': 106078} has been created\n",
      "{'name': 'Hong Kit Jack Wong', 'player_id': 138846} has been created\n",
      "{'name': 'Learner Tien', 'player_id': 210530} has been created\n",
      "{'name': 'Kiranpal Pannu', 'player_id': 208485} has been created\n",
      "{'name': 'Evan Furness', 'player_id': 145001} has been created\n",
      "{'name': 'Pavel Kotov', 'player_id': 200303} has been created\n",
      "{'name': 'Casper Ruud', 'player_id': 134770} has been created\n",
      "{'name': 'Salvatore Caruso', 'player_id': 106099} has been created\n",
      "{'name': 'Dominic Stricker', 'player_id': 208502} has been created\n",
      "{'name': 'Chun Hsin Tseng', 'player_id': 202358} has been created\n",
      "{'name': 'Alex Bolt', 'player_id': 106109} has been created\n",
      "{'name': 'Filip Horansky', 'player_id': 106110} has been created\n",
      "{'name': 'Jan Zielinski', 'player_id': 126591} has been created\n",
      "{'name': 'Emil Ruusuvuori', 'player_id': 200325} has been created\n",
      "{'name': 'Taro Daniel', 'player_id': 106121} has been created\n",
      "{'name': 'Ignacio Carou', 'player_id': 202378} has been created\n",
      "{'name': 'Felipe Meligeni Alves', 'player_id': 200335} has been created\n",
      "{'name': 'Jenson Brooksby', 'player_id': 202385} has been created\n",
      "{'name': 'Matteo Berrettini', 'player_id': 126610} has been created\n",
      "{'name': 'Alastair Gray', 'player_id': 202400} has been created\n",
      "{'name': 'Johan Nikles', 'player_id': 126627} has been created\n",
      "{'name': 'Roberto Carballes Baena', 'player_id': 106148} has been created\n",
      "{'name': 'Aleksandar Kovacevic', 'player_id': 206499} has been created\n",
      "{'name': 'Franco Agamenone', 'player_id': 106162} has been created\n",
      "{'name': 'Edan Leshem', 'player_id': 122548} has been created\n",
      "{'name': 'Tim Van Rijthoven', 'player_id': 126646} has been created\n",
      "{'name': 'Nicolas Alvarez Varona', 'player_id': 200374} has been created\n",
      "{'name': 'Jay Clarke', 'player_id': 126652} has been created\n",
      "{'name': 'Gonzalo Lama', 'player_id': 106174} has been created\n"
     ]
    },
    {
     "name": "stderr",
     "output_type": "stream",
     "text": [
      " 89%|████████▉ | 365/408 [00:01<00:00, 241.72it/s]"
     ]
    },
    {
     "name": "stdout",
     "output_type": "stream",
     "text": [
      "{'name': 'Hugo Gaston', 'player_id': 200384} has been created\n",
      "{'name': 'Kacper Zuk', 'player_id': 200390} has been created\n",
      "{'name': 'Juan Pablo Ficovich', 'player_id': 126663} has been created\n",
      "{'name': 'Jason Kubler', 'player_id': 106186} has been created\n",
      "{'name': 'Tallon Griekspoor', 'player_id': 134868} has been created\n",
      "{'name': 'Hugo Dellien', 'player_id': 106198} has been created\n",
      "{'name': 'Jiri Vesely', 'player_id': 106210} has been created\n",
      "{'name': 'Oscar Otte', 'player_id': 106214} has been created\n",
      "{'name': 'Bjorn Fratangelo', 'player_id': 106216} has been created\n",
      "{'name': 'Marcos Giron', 'player_id': 106218} has been created\n",
      "{'name': 'Philip Henning', 'player_id': 202475} has been created\n",
      "{'name': 'Dimitar Kuzmanov', 'player_id': 106220} has been created\n",
      "{'name': 'Aleksandre Metreveli', 'player_id': 106223} has been created\n",
      "{'name': 'Ji Sung Nam', 'player_id': 106227} has been created\n",
      "{'name': 'Juan Ignacio Londero', 'player_id': 106228} has been created\n",
      "{'name': 'Zsombor Piros', 'player_id': 200436} has been created\n",
      "{'name': 'Dominic Thiem', 'player_id': 106233} has been created\n",
      "{'name': 'Aslan Karatsev', 'player_id': 106234} has been created\n",
      "{'name': 'Gabi Adrian Boitan', 'player_id': 206589} has been created\n",
      "{'name': 'Isaac Becroft', 'player_id': 208653} has been created\n",
      "{'name': 'Valentin Vacherot', 'player_id': 200473} has been created\n",
      "{'name': 'Liam Broady', 'player_id': 106281} has been created\n",
      "{'name': 'Aleksandre Bakshi', 'player_id': 126762} has been created\n",
      "{'name': 'Mitchell Krueger', 'player_id': 106283} has been created\n",
      "{'name': 'Juan Pablo Varillas', 'player_id': 122669} has been created\n",
      "{'name': 'Hernan Casanova', 'player_id': 106292} has been created\n",
      "{'name': 'Stefanos Tsitsipas', 'player_id': 126774} has been created\n",
      "{'name': 'Gregoire Barrere', 'player_id': 106296} has been created\n",
      "{'name': 'Lucas Pouille', 'player_id': 106298} has been created\n",
      "{'name': 'Matic Kriznik', 'player_id': 210753} has been created\n",
      "{'name': 'Jurij Rodionov', 'player_id': 200514} has been created\n",
      "{'name': 'Philipp Kohlschreiber', 'player_id': 104259} has been created\n",
      "{'name': 'Alexander Ritschard', 'player_id': 106310} has been created\n",
      "{'name': 'Fernando Verdasco', 'player_id': 104269} has been created\n",
      "{'name': 'Christian Harrison', 'player_id': 106328} has been created\n",
      "{'name': 'Thiago Monteiro', 'player_id': 106329} has been created\n",
      "{'name': 'Christopher Oconnell', 'player_id': 106331} has been created\n",
      "{'name': 'Malek Jaziri', 'player_id': 104291} has been created\n",
      "{'name': 'Vladyslav Orlov', 'player_id': 200550} has been created\n",
      "{'name': 'Paul Jubb', 'player_id': 206703} has been created\n",
      "{'name': 'Andreas Seppi', 'player_id': 104312} has been created\n",
      "{'name': 'Nick Hardt', 'player_id': 200572} has been created\n",
      "{'name': 'Max Purcell', 'player_id': 126845} has been created\n",
      "{'name': 'Aleksandar Vukic', 'player_id': 126846} has been created\n",
      "{'name': 'Lukas Hellum Lilleengen', 'player_id': 206716} has been created\n",
      "{'name': 'Ramkumar Ramanathan', 'player_id': 106368} has been created\n",
      "{'name': 'Delmas Ntcha', 'player_id': 200583} has been created\n",
      "{'name': 'Kyle Edmund', 'player_id': 106378} has been created\n"
     ]
    },
    {
     "name": "stderr",
     "output_type": "stream",
     "text": [
      "100%|██████████| 408/408 [00:01<00:00, 207.79it/s]"
     ]
    },
    {
     "name": "stdout",
     "output_type": "stream",
     "text": [
      "{'name': 'Brandon Holt', 'player_id': 200587} has been created\n",
      "{'name': 'Gonzalo Villanueva', 'player_id': 106380} has been created\n",
      "{'name': 'Michail Pervolarakis', 'player_id': 133018} has been created\n",
      "{'name': 'Giulio Zeppieri', 'player_id': 206748} has been created\n",
      "{'name': 'Pedro Cachin', 'player_id': 106398} has been created\n",
      "{'name': 'Nick Kyrgios', 'player_id': 106401} has been created\n",
      "{'name': 'Elliot Benchetrit', 'player_id': 200611} has been created\n",
      "{'name': 'Alexei Popyrin', 'player_id': 200615} has been created\n",
      "{'name': 'Yoshihito Nishioka', 'player_id': 106415} has been created\n",
      "{'name': 'Sebastian Korda', 'player_id': 200624} has been created\n",
      "{'name': 'Max Hans Rehberg', 'player_id': 208819} has been created\n",
      "{'name': 'Daniil Medvedev', 'player_id': 106421} has been created\n",
      "{'name': 'Thanasi Kokkinakis', 'player_id': 106423} has been created\n",
      "{'name': 'Cristian Garin', 'player_id': 106426} has been created\n",
      "{'name': 'Borna Coric', 'player_id': 106432} has been created\n",
      "{'name': 'Sho Shimabukuro', 'player_id': 200647} has been created\n",
      "{'name': 'Francesco Passaro', 'player_id': 208859} has been created\n",
      "{'name': 'J J Wolf', 'player_id': 200670} has been created\n",
      "{'name': 'Sergey Fomin', 'player_id': 200672} has been created\n",
      "{'name': 'Rio Noguchi', 'player_id': 200677} has been created\n",
      "{'name': 'Soon Woo Kwon', 'player_id': 126952} has been created\n",
      "{'name': 'Vitaliy Sachko', 'player_id': 126964} has been created\n"
     ]
    },
    {
     "name": "stderr",
     "output_type": "stream",
     "text": [
      "\n"
     ]
    }
   ],
   "source": [
    "from database_workers.item_handling.tennis_editor import TennisEditor\n",
    "from datetime import datetime\n",
    "import pandas as pd\n",
    "matches_2022 = pd.read_csv('data/matches_2022.csv')\n",
    "\n",
    "# Create a TennisEditor object, use matches_2022 df as the database\n",
    "editor = TennisEditor(data=matches_2022)\n",
    "\n",
    "# Add players to db\n",
    "editor.upload_players_to_db()\n"
   ]
  },
  {
   "cell_type": "code",
   "execution_count": 2,
   "metadata": {},
   "outputs": [
    {
     "data": {
      "text/plain": [
       "{'name': 'Lukas Rosol',\n",
       " 'id': 104586,\n",
       " 'matches': [Index([1548, 2534], dtype='int64')]}"
      ]
     },
     "execution_count": 2,
     "metadata": {},
     "output_type": "execute_result"
    }
   ],
   "source": [
    "editor.find_matches_by_id(104586)"
   ]
  }
 ],
 "metadata": {
  "kernelspec": {
   "display_name": "venv",
   "language": "python",
   "name": "python3"
  },
  "language_info": {
   "codemirror_mode": {
    "name": "ipython",
    "version": 3
   },
   "file_extension": ".py",
   "mimetype": "text/x-python",
   "name": "python",
   "nbconvert_exporter": "python",
   "pygments_lexer": "ipython3",
   "version": "3.10.6"
  },
  "orig_nbformat": 4,
  "vscode": {
   "interpreter": {
    "hash": "3b6fd1c8253db789ba85424ec6039a447a3e0fb2752b2af7952a24728a90921f"
   }
  }
 },
 "nbformat": 4,
 "nbformat_minor": 2
}
